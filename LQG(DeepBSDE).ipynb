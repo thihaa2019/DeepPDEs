{
 "cells": [
  {
   "cell_type": "markdown",
   "id": "ce901f7e",
   "metadata": {},
   "source": [
    "We consider a classical linear-quadratic-Gaussian (LQG) control problem in 1-D:\n",
    "$$\n",
    "d X_t=2 \\sqrt{\\lambda} \\alpha_t d t+\\sqrt{2} d W_t, X_0 = x\n",
    "$$\n",
    "with a control process $\\left\\{\\alpha_t\\right\\}_{t \\in[0, T]}$ with values in $\\mathbb{R}^1$. The solution of the control problem is characterized by the value function\n",
    "$$\n",
    "v(0, x)=\\min _{\\alpha_t} \\mathbb{E}\\left[\\int_0^T\\alpha_t^2 \\mathrm{~d} t+g\\left(X_T\\right) \\mid X_0=x\\right],\n",
    "$$\n",
    "\n",
    "with terminal cost function $g(x) = \\ln \\left(\\left(1+\\|x\\|^2\\right) / 2\\right)$\n",
    "\n",
    "\n",
    "The Hamilton-Jacobi-Bellman equation associated with the stochastic control problem is given by the nonlinear PDE\n",
    "$$\n",
    "\\partial_t v(t, x)+\\partial_{xx}v(t, x)+\\min _\\alpha\\left\\{2 \\sqrt{\\lambda} \\alpha \\cdot \\partial_x v(t, x)+\\alpha^2\\right\\}=0, \\quad v(T, x)=g(x) .\n",
    "$$\n",
    "\n"
   ]
  },
  {
   "cell_type": "markdown",
   "id": "00fe1304",
   "metadata": {},
   "source": [
    "The minimum is attained at $\\alpha =- \\sqrt{\\lambda} \\partial_x u$, plugging back in, one obtain the desired semilinear PDE form:\n",
    "$$\n",
    "\\partial_t v(t, x)+\\partial_{xx}v(t, x) - 2 {\\lambda}  (\\partial_x v(t, x))^2 + \\lambda\\partial_x v(t,x)^2=0, \n",
    "$$\n"
   ]
  },
  {
   "cell_type": "markdown",
   "id": "0088acbd",
   "metadata": {},
   "source": [
    "with \n",
    "$\\\\b(x) = -2 \\lambda \\partial_x v(t, x)$\n",
    "\n",
    "$\\sigma(x) = \\sqrt{2}$\n",
    "\n",
    "$f(t,x,y,z) =  \\lambda z^2/\\sigma^2$ \n",
    "\n",
    "Remark: $z = \\sigma^{\\prime} \\partial_x v$"
   ]
  },
  {
   "cell_type": "code",
   "execution_count": 1,
   "id": "7363fb27",
   "metadata": {},
   "outputs": [],
   "source": [
    "def g(x):\n",
    "    terminal_func = torch.log(0.5 *(1+x**2)).flatten()\n",
    "    return terminal_func\n",
    "\n",
    "import math\n",
    "def f(t,x,y,z):\n",
    "    sigma = math.sqrt(2)\n",
    "    running_cost = lamb * z**2/sigma**2\n",
    "    return running_cost.flatten()\n"
   ]
  },
  {
   "cell_type": "markdown",
   "id": "8dfae0e4",
   "metadata": {},
   "source": [
    "Discretize on $[0,1]$ with $dt =0.01$. Number of gradient updates = 1000. Number of simulations per step = $2^9$."
   ]
  },
  {
   "cell_type": "code",
   "execution_count": 61,
   "id": "9ccab738",
   "metadata": {},
   "outputs": [],
   "source": [
    "import numpy as np\n",
    "import torch\n",
    "\n",
    "\n",
    "t = torch.linspace(0,1,101,dtype = torch.float32)\n",
    "dt = t[1]-t[0] \n",
    "# total updates for gradient descent\n",
    "N_epoch = 500\n",
    "# batch_size\n",
    "N_MC = 2**8 #250 samplew\n",
    "#Number of monte carlo simulationsat each time point.\n",
    "BM_mat = torch.sqrt(dt) * np.random.normal(size = (N_MC,len(t)-1))\n",
    "BM_mat = BM_mat.to(t.dtype)"
   ]
  },
  {
   "cell_type": "markdown",
   "id": "bb6bb484",
   "metadata": {},
   "source": [
    "Here, we create a list of Neural Networks \n",
    "\n",
    "${\\mathcal{NN}}=\\left(\\mathcal{NN}_{u_0}, \\mathcal{NN}_{\\nabla u_0}, \\mathcal{NN}_{\\nabla u_1}, \\ldots \\mathcal{NN}_{\\nabla v_{N-1}}\\right)$ to approximate $\\\\v(0,x_0), x_0 \\in \\mathcal{D}$, $\\sigma^{\\prime} \\partial_x v(0,x), \\sigma^{\\prime} \\partial_x v(1,x),...,  \\sigma^{\\prime} \\partial_x v(N-1,x)$ respectively.\n",
    "\n",
    "In each gradient descent, we update all the $\\mathcal{NN}$ parameters.\n",
    "\n",
    "$\\theta=\\left(\\theta_{u_0}, \\theta_{\\nabla u_0}, \\theta_{\\nabla u_1}, \\ldots \\theta_{\\nabla u_{N-1}}\\right)$"
   ]
  },
  {
   "cell_type": "code",
   "execution_count": 99,
   "id": "3bf9e5e2",
   "metadata": {},
   "outputs": [],
   "source": [
    "# Create NN\n",
    "# Create a list of NN\n",
    "import torch.nn as nn\n",
    "class Model(nn.Module):\n",
    "    #Standard NN\n",
    "    def __init__(self):\n",
    "        super().__init__()\n",
    "        self.net = nn.Sequential( \n",
    "            nn.Linear(1,32),   #2 x 64 operation. i.e. maps n x 2 to n x 64 via: x maps to xA + b\n",
    "            nn.ELU(),      #activation \n",
    "            nn.Linear(32, 32), #maps n x 64 to n x 64\n",
    "            nn.ELU(),      #activation\n",
    "            nn.Linear(32, 32), #maps n x 64 to n x 64\n",
    "            nn.ELU(),   \n",
    "            nn.Linear(32, 1),  #maps n x 64 to n x 1\n",
    "            )\n",
    "    def forward(self,z):\n",
    "        return self.net(z)\n",
    "    \n",
    "eta = 2e-3\n",
    "NN_list = list()\n",
    "param_list = list()\n",
    "for ind in range(len(t)):\n",
    "    NN = Model()\n",
    "    NN_list.append(NN)\n",
    "    param_list = param_list + list(NN.parameters())\n",
    "opt = torch.optim.Adam(param_list,lr = eta)\n",
    "N_epoch = 500"
   ]
  },
  {
   "cell_type": "code",
   "execution_count": 118,
   "id": "efd2230f",
   "metadata": {},
   "outputs": [],
   "source": [
    "def run_NN():\n",
    "    loss_history = list()\n",
    "    print(lamb)\n",
    "    sigma = math.sqrt(2)\n",
    "    # Iteration count\n",
    "    for k in range(N_epoch):\n",
    "        # Do M times of simulations to approximate the loss function by Monte Carlo, use a batch of size M in practice\n",
    "        # so we don't need to run the NN for a lot of times repeatedly\n",
    "        \n",
    "        # X0\n",
    "        X_hat =   torch.distributions.uniform.Uniform(-1, 1).sample((N_MC,1))\n",
    "        #X_hat = torch.ones((N_MC,1))\n",
    "        X_hat = torch.squeeze(X_hat)\n",
    "        # U0\n",
    "        U_hat = torch.squeeze(NN_list[0](torch.unsqueeze(X_hat,1)))\n",
    "\n",
    "        # At the i-th time point\n",
    "        for i in range(len(t)-1):\n",
    "            # Zi\n",
    "            Z_hat =  torch.squeeze(NN_list[i+1](torch.unsqueeze(X_hat,1)))\n",
    "\n",
    "            # U approx based on derivative apperox Z\n",
    "            next_U_hat = U_hat - f(i*dt,X_hat,U_hat,Z_hat) *dt +Z_hat * BM_mat[:,i]\n",
    "            # Simulate X_hat\n",
    "\n",
    "            control = - math.sqrt(lamb) * Z_hat/sigma\n",
    "            next_X_hat = X_hat +2* math.sqrt(lamb) * control* dt + sigma * BM_mat[:,i]\n",
    "\n",
    "            # Update X_hat,U_hat,Z_hat\n",
    "            X_hat = next_X_hat\n",
    "            U_hat = next_U_hat\n",
    "\n",
    "            # Note: we CANNOT organize X_hat as a tensor with dimension max_step * M * N and record all simulation results\n",
    "            # of X in the same tensor (although in disjoint regions). This is because Pytorch takes this as \"in-place\"\n",
    "            # The definition of \"in-place\" operations: an operation that changes directly the content of a given Tensor \n",
    "            # without making a copy.\n",
    "            # operation and this results in failures in tracking the gradient. Some other examples of \"in-place\" operations\n",
    "            # are like \"+=\", \"*=\", however, \"X = X + 1\" is not considered \"in-place\".\n",
    "            # Be careful with this point and always use \"X_hat\", \"next_X_hat\" scheme when training the NN.\n",
    "                \n",
    "        # Compute loss\n",
    "        loss = torch.mean((U_hat - g(X_hat)) ** 2) \n",
    "        \n",
    "        # Print loss every 100 iterrations\n",
    "        if k % 100 == 0:\n",
    "            print('Iter: ' + str(k) + ', Loss: ' + str(loss.detach()))\n",
    "            \n",
    "        # Record loss and Y_init for plotting\n",
    "        # Note: we shall clone after detaching to make deep copies\n",
    "        loss_history.append(loss.detach().clone())\n",
    "        \n",
    "        # Back propagation\n",
    "        opt.zero_grad()\n",
    "        loss.backward()\n",
    "        \n",
    "        # Update NN parameters and Y_init\n",
    "        opt.step()"
   ]
  },
  {
   "cell_type": "code",
   "execution_count": 120,
   "id": "2e8a49a8",
   "metadata": {},
   "outputs": [
    {
     "name": "stdout",
     "output_type": "stream",
     "text": [
      "1.0\n",
      "Iter: 0, Loss: tensor(0.0012)\n",
      "Iter: 100, Loss: tensor(0.0012)\n",
      "Iter: 200, Loss: tensor(0.0011)\n",
      "Iter: 300, Loss: tensor(0.0012)\n",
      "Iter: 400, Loss: tensor(0.0013)\n",
      "2.0\n",
      "Iter: 0, Loss: tensor(0.0274)\n",
      "Iter: 100, Loss: tensor(0.0008)\n",
      "Iter: 200, Loss: tensor(0.0009)\n",
      "Iter: 300, Loss: tensor(0.0008)\n",
      "Iter: 400, Loss: tensor(0.0007)\n",
      "3.0\n",
      "Iter: 0, Loss: tensor(0.0118)\n",
      "Iter: 100, Loss: tensor(0.0006)\n",
      "Iter: 200, Loss: tensor(0.0005)\n",
      "Iter: 300, Loss: tensor(0.0005)\n",
      "Iter: 400, Loss: tensor(0.0005)\n",
      "4.0\n",
      "Iter: 0, Loss: tensor(0.0053)\n",
      "Iter: 100, Loss: tensor(0.0004)\n",
      "Iter: 200, Loss: tensor(0.0004)\n",
      "Iter: 300, Loss: tensor(0.0004)\n",
      "Iter: 400, Loss: tensor(0.0004)\n",
      "5.0\n",
      "Iter: 0, Loss: tensor(0.0029)\n",
      "Iter: 100, Loss: tensor(0.0003)\n",
      "Iter: 200, Loss: tensor(0.0003)\n",
      "Iter: 300, Loss: tensor(0.0003)\n",
      "Iter: 400, Loss: tensor(0.0003)\n"
     ]
    }
   ],
   "source": [
    "lambda_list = np.linspace(1,5,5)\n",
    "\n",
    "value_funcs = [None]*len(lambda_list)\n",
    "for i in range(len(lambda_list)):\n",
    "    lamb = lambda_list[i]\n",
    "    run_NN()\n",
    "    x = torch.linspace(-1,1,100)\n",
    "    value_funcs[i] = torch.squeeze(NN_list[0](torch.unsqueeze(x,1)))\n",
    "\n"
   ]
  },
  {
   "cell_type": "code",
   "execution_count": 124,
   "id": "bb624425",
   "metadata": {},
   "outputs": [
    {
     "data": {
      "text/plain": [
       "Text(0.5, 0, '$x_0$')"
      ]
     },
     "execution_count": 124,
     "metadata": {},
     "output_type": "execute_result"
    },
    {
     "data": {
      "image/png": "[encoded data removed]",
      "text/plain": [
       "<Figure size 640x480 with 1 Axes>"
      ]
     },
     "metadata": {},
     "output_type": "display_data"
    }
   ],
   "source": [
    "for i in range(5):\n",
    "\n",
    "    plt.plot(x,value_funcs[i].detach().numpy())\n",
    "\n",
    "plt.legend([r\"$\\lambda = 1$\",r\"$\\lambda = 2$\", r\"$\\lambda = 3$\",r\"$\\lambda = 4$\",r\"$\\lambda = 5$\"])\n",
    "plt.title(r\"Value function at t = 0\")\n",
    "plt.xlabel(r\"$x_0$\")"
   ]
  }
 ],
 "metadata": {
  "kernelspec": {
   "display_name": "Python 3 (ipykernel)",
   "language": "python",
   "name": "python3"
  },
  "language_info": {
   "codemirror_mode": {
    "name": "ipython",
    "version": 3
   },
   "file_extension": ".py",
   "mimetype": "text/x-python",
   "name": "python",
   "nbconvert_exporter": "python",
   "pygments_lexer": "ipython3",
   "version": "3.10.12"
  }
 },
 "nbformat": 4,
 "nbformat_minor": 5
}
